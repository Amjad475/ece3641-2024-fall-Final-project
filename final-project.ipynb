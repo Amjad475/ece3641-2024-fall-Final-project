from machine import Pin, PWM, ADC  # Import ADC along with Pin and PWM
import time

# Initialize servos for chassis, shoulder, elbow, and claws
chassis = PWM(Pin(5), freq=50)     # Chassis on pin 5
shoulder = PWM(Pin(16), freq=50)   # Shoulder on pin 16
elbow = PWM(Pin(17), freq=50)      # Elbow on pin 17
claws = PWM(Pin(18), freq=50)      # Claws on pin 18

# Initialize joysticks
left_x = ADC(Pin(32))  # Left joystick X-axis (Claw control)
left_y = ADC(Pin(33))  # Left joystick Y-axis (Shoulder control)
right_y = ADC(Pin(36))  # Right joystick Y-axis (Shoulder and Elbow control)
left_sw = Pin(34, Pin.IN, Pin.PULL_UP)  # Left joystick click (special movement trigger)

# Configure ADC for joystick
left_x.atten(ADC.ATTN_11DB)  # Set ADC range to 0-3.3V
left_y.atten(ADC.ATTN_11DB)
right_y.atten(ADC.ATTN_11DB)

# Function to set servo angle
def set_servo_angle(servo, angle):
    # Clamp the angle to ensure it remains within valid servo range
    angle = max(0, min(180, angle))
    duty = int(40 + (angle / 180) * 75)  # Convert angle to duty cycle
    servo.duty(duty)

# Function to map joystick input to servo angle
def map_joystick_to_angle(value, range_min=0, range_max=180):
    # Map joystick input (0-4095) to a full servo angle range
    angle = int((value / 4095) * (range_max - range_min) + range_min)
    return max(range_min, min(range_max, angle))

# Function to initialize the robot arm in the desired position
def initialize_robot_arm():
    print("Initializing robot arm...")
    set_servo_angle(shoulder, 90)  # Shoulder at 90 degrees (neutral position)
    set_servo_angle(elbow, 90)     # Elbow at 90 degrees (neutral position)
    set_servo_angle(claws, 10)     # Claws closed
    time.sleep(1)                  # Allow servos to stabilize

# Function to perform special movement
def perform_special_movement():
    print("Performing special movement...")
    for _ in range(3):  # Repeat the sequence 3 times
        # Move elbow to 0 degrees
        set_servo_angle(elbow, 0)
        # Open claw
        set_servo_angle(claws, 70)
        time.sleep(2)

        # Move elbow to 90 degrees
        set_servo_angle(elbow, 90)
        # Close claw
        set_servo_angle(claws, 10)
        time.sleep(2)

# Function to enable joystick control
def joystick_control():
    print("Joystick control enabled.")
    
    # Store the last positions of the servos
    last_shoulder_angle = 90
    last_elbow_angle = 90
    last_claws_angle = 10

    while True:
        # Check for left joystick click
        if left_sw.value() == 0:  # Button pressed (active low)
            perform_special_movement()
            continue

        # Read joystick values
        left_x_value = left_x.read()  # Claw control
        left_y_value = left_y.read()  # Shoulder control
        right_y_value = right_y.read()  # Shoulder and Elbow control

        # Split the range for shoulder and elbow control
        if right_y_value < 2048:  # Upper half of joystick controls the shoulder
            new_shoulder_angle = map_joystick_to_angle(right_y_value, range_min=0, range_max=180)
            if abs(new_shoulder_angle - last_shoulder_angle) > 2:
                set_servo_angle(shoulder, new_shoulder_angle)
                last_shoulder_angle = new_shoulder_angle
        else:  # Lower half of joystick controls the elbow
            new_elbow_angle = map_joystick_to_angle(right_y_value - 2048, range_min=0, range_max=180)
            if abs(new_elbow_angle - last_elbow_angle) > 2:
                set_servo_angle(elbow, new_elbow_angle)
                last_elbow_angle = new_elbow_angle

        # Map joystick values to claw angle
        new_claws_angle = map_joystick_to_angle(left_x_value, range_min=0, range_max=180)
        if abs(new_claws_angle - last_claws_angle) > 2:
            set_servo_angle(claws, new_claws_angle)
            last_claws_angle = new_claws_angle

        # Print values for debugging
        print(f"Shoulder: {last_shoulder_angle}, Elbow: {last_elbow_angle}, Claws: {last_claws_angle}")
        
        # Pause briefly to avoid overloading the loop
        time.sleep(0.1)

# Main program execution
if __name__ == "__main__":
    try:
        initialize_robot_arm()  # Initialize the arm to the desired position
        joystick_control()      # Enable joystick control
    except KeyboardInterrupt:
        print("Program stopped.")

